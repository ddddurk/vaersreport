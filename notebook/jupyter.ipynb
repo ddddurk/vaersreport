{
 "cells": [
  {
   "cell_type": "code",
   "execution_count": null,
   "metadata": {
    "vscode": {
     "languageId": "shellscript"
    }
   },
   "outputs": [],
   "source": [
    "pip install -r ./requirements.txt"
   ]
  },
  {
   "cell_type": "code",
   "execution_count": 4,
   "metadata": {},
   "outputs": [],
   "source": [
    "import os\n",
    "import pandas as pd\n",
    "import shutil"
   ]
  },
  {
   "cell_type": "code",
   "execution_count": null,
   "metadata": {},
   "outputs": [],
   "source": [
    "%cd ../py\n",
    "\n",
    "from constants import (\n",
    "    CSV_EXTRACTED_PATH,\n",
    "    CSV_MERGED_PATH,\n",
    "    DATA_PATH,\n",
    "    DATA_PRE_ANALYZED,\n",
    "    TYPES,\n",
    ")\n",
    "from file.file_data_write import file_data_write\n",
    "from main import main\n",
    "\n",
    "%cd ../notebook"
   ]
  },
  {
   "cell_type": "code",
   "execution_count": 6,
   "metadata": {},
   "outputs": [],
   "source": [
    "shutil.rmtree(CSV_EXTRACTED_PATH)\n",
    "shutil.rmtree(CSV_MERGED_PATH)\n",
    "shutil.rmtree(DATA_PATH)"
   ]
  },
  {
   "cell_type": "code",
   "execution_count": null,
   "metadata": {
    "vscode": {
     "languageId": "shellscript"
    }
   },
   "outputs": [],
   "source": [
    "!bash ../scripts/unzip.sh"
   ]
  },
  {
   "cell_type": "code",
   "execution_count": 8,
   "metadata": {},
   "outputs": [],
   "source": [
    "os.mkdir(CSV_MERGED_PATH)"
   ]
  },
  {
   "cell_type": "code",
   "execution_count": 9,
   "metadata": {},
   "outputs": [],
   "source": [
    "for type in TYPES.keys():\n",
    "    df = pd.DataFrame()\n",
    "\n",
    "    for file in os.listdir(CSV_EXTRACTED_PATH):\n",
    "        if file.endswith(f\"{type}.csv\"):\n",
    "            file_df = pd.read_csv(\n",
    "                f\"{CSV_EXTRACTED_PATH}/{file}\",\n",
    "                encoding=\"latin1\",\n",
    "                engine=\"python\",\n",
    "            )\n",
    "\n",
    "            file_df = file_df[TYPES[type].values()]\n",
    "\n",
    "            if df.empty:\n",
    "                df = file_df\n",
    "            else:\n",
    "                df = pd.concat([df, file_df])\n",
    "\n",
    "    df.to_csv(\n",
    "        f\"{CSV_MERGED_PATH}/{type}.csv\",\n",
    "        encoding=\"latin1\",\n",
    "        index=False,\n",
    "        sep=\",\",\n",
    "    )"
   ]
  },
  {
   "cell_type": "code",
   "execution_count": 10,
   "metadata": {},
   "outputs": [],
   "source": [
    "os.mkdir(DATA_PATH)"
   ]
  },
  {
   "cell_type": "code",
   "execution_count": null,
   "metadata": {},
   "outputs": [],
   "source": [
    "for data_pre in DATA_PRE_ANALYZED.keys():\n",
    "    file_data_write(main(*DATA_PRE_ANALYZED[data_pre]), data_pre)"
   ]
  }
 ],
 "metadata": {
  "kernelspec": {
   "display_name": "Python 3",
   "language": "python",
   "name": "python3"
  },
  "language_info": {
   "codemirror_mode": {
    "name": "ipython",
    "version": 3
   },
   "file_extension": ".py",
   "mimetype": "text/x-python",
   "name": "python",
   "nbconvert_exporter": "python",
   "pygments_lexer": "ipython3",
   "version": "3.11.3"
  },
  "orig_nbformat": 4
 },
 "nbformat": 4,
 "nbformat_minor": 2
}
