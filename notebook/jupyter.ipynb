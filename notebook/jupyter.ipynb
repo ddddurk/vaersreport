{
 "cells": [
  {
   "cell_type": "code",
   "execution_count": null,
   "metadata": {
    "vscode": {
     "languageId": "shellscript"
    }
   },
   "outputs": [],
   "source": [
    "pip install -r ./requirements.txt"
   ]
  },
  {
   "cell_type": "code",
   "execution_count": 2,
   "metadata": {},
   "outputs": [],
   "source": [
    "import os\n",
    "import pandas as pd\n",
    "import shutil"
   ]
  },
  {
   "cell_type": "code",
   "execution_count": null,
   "metadata": {},
   "outputs": [],
   "source": [
    "%cd ../py\n",
    "\n",
    "from constants import (\n",
    "    CSV_EXTRACTED_PATH,\n",
    "    CSV_MERGED_PATH,\n",
    "    DATA_LARGE_KEYS,\n",
    "    DATA_PATH,\n",
    "    TYPES,\n",
    "    YEARS,\n",
    ")\n",
    "from file.file_data_write import file_data_write\n",
    "\n",
    "%cd ../notebook"
   ]
  },
  {
   "cell_type": "code",
   "execution_count": 4,
   "metadata": {},
   "outputs": [],
   "source": [
    "shutil.rmtree(CSV_EXTRACTED_PATH)\n",
    "shutil.rmtree(CSV_MERGED_PATH)\n",
    "shutil.rmtree(DATA_PATH)"
   ]
  },
  {
   "cell_type": "code",
   "execution_count": null,
   "metadata": {
    "vscode": {
     "languageId": "shellscript"
    }
   },
   "outputs": [],
   "source": [
    "!bash ../scripts/unzip.sh"
   ]
  },
  {
   "cell_type": "code",
   "execution_count": 6,
   "metadata": {},
   "outputs": [],
   "source": [
    "os.mkdir(CSV_MERGED_PATH)"
   ]
  },
  {
   "cell_type": "code",
   "execution_count": 7,
   "metadata": {},
   "outputs": [],
   "source": [
    "for type in TYPES.keys():\n",
    "    df = pd.DataFrame()\n",
    "\n",
    "    for file in os.listdir(CSV_EXTRACTED_PATH):\n",
    "        if file.endswith(f\"{type}.csv\"):\n",
    "            file_df = pd.read_csv(\n",
    "                f\"{CSV_EXTRACTED_PATH}/{file}\",\n",
    "                encoding=\"latin1\",\n",
    "                engine=\"python\",\n",
    "            )\n",
    "\n",
    "            file_df = file_df[TYPES[type].values()]\n",
    "\n",
    "            if df.empty:\n",
    "                df = file_df\n",
    "            else:\n",
    "                df = pd.concat([df, file_df])\n",
    "\n",
    "    df.to_csv(\n",
    "        f\"{CSV_MERGED_PATH}/{type}.csv\",\n",
    "        encoding=\"latin1\",\n",
    "        index=False,\n",
    "        sep=\",\",\n",
    "    )"
   ]
  },
  {
   "cell_type": "code",
   "execution_count": 8,
   "metadata": {},
   "outputs": [],
   "source": [
    "os.mkdir(DATA_PATH)"
   ]
  },
  {
   "cell_type": "code",
   "execution_count": null,
   "metadata": {},
   "outputs": [],
   "source": [
    "%cd ../py\n",
    "\n",
    "from df import df\n",
    "from filter.filter import filter\n",
    "from main import main\n",
    "\n",
    "%cd ../notebook"
   ]
  },
  {
   "cell_type": "code",
   "execution_count": 10,
   "metadata": {},
   "outputs": [],
   "source": [
    "dfs = df()"
   ]
  },
  {
   "cell_type": "code",
   "execution_count": 15,
   "metadata": {},
   "outputs": [
    {
     "name": "stdout",
     "output_type": "stream",
     "text": [
      "0\n",
      "527209\n",
      "995221\n",
      "2051121\n"
     ]
    }
   ],
   "source": [
    "exclude_ids = []\n",
    "\n",
    "for key in DATA_LARGE_KEYS.keys():\n",
    "    data_key = DATA_LARGE_KEYS[key]\n",
    "\n",
    "    file_data_write(main(*data_key[\"filter\"]), key)\n",
    "\n",
    "    filtered_dfs = filter(*data_key[\"filter\"])\n",
    "\n",
    "    if data_key[\"exclude\"]:\n",
    "        exclude_ids = (\n",
    "            exclude_ids + filtered_dfs[\"df_DATA\"][TYPES[\"DATA\"][\"id\"]].tolist()\n",
    "        )\n",
    "\n",
    "for type in TYPES.keys():\n",
    "    df_type = dfs[f\"df_{type}\"]\n",
    "    df_type = df_type[~df_type[TYPES[type][\"id\"]].isin(exclude_ids)]\n",
    "    df_type.to_csv(\n",
    "        f\"{CSV_MERGED_PATH}/{type}.csv\",\n",
    "        encoding=\"latin1\",\n",
    "        index=False,\n",
    "        sep=\",\",\n",
    "    )"
   ]
  }
 ],
 "metadata": {
  "kernelspec": {
   "display_name": "Python 3",
   "language": "python",
   "name": "python3"
  },
  "language_info": {
   "codemirror_mode": {
    "name": "ipython",
    "version": 3
   },
   "file_extension": ".py",
   "mimetype": "text/x-python",
   "name": "python",
   "nbconvert_exporter": "python",
   "pygments_lexer": "ipython3",
   "version": "3.11.3"
  },
  "orig_nbformat": 4
 },
 "nbformat": 4,
 "nbformat_minor": 2
}
