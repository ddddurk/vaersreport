{
 "cells": [
  {
   "cell_type": "code",
   "execution_count": null,
   "metadata": {
    "vscode": {
     "languageId": "shellscript"
    }
   },
   "outputs": [],
   "source": [
    "pip install -r ./requirements.txt"
   ]
  },
  {
   "cell_type": "code",
   "execution_count": 2,
   "metadata": {},
   "outputs": [],
   "source": [
    "import datetime\n",
    "import json\n",
    "import os\n",
    "import pandas as pd\n",
    "import shutil"
   ]
  },
  {
   "cell_type": "code",
   "execution_count": 3,
   "metadata": {},
   "outputs": [],
   "source": [
    "AGES = {\n",
    "    \"0-5 years\": [0, 6],\n",
    "    \"6-14 years\": [6, 15],\n",
    "    \"15-24 years\": [15, 25],\n",
    "    \"25-65 years\": [25, 66],\n",
    "    \"65+ years\": [66, 999],\n",
    "}\n",
    "\n",
    "CSV_PATH = \"../csv\"\n",
    "CSV_EXTRACTED_PATH = f\"{CSV_PATH}/extracted\"\n",
    "CSV_MERGED_PATH = f\"{CSV_PATH}/merged\"\n",
    "\n",
    "DATA_PATH = f\"../data\"\n",
    "DATA_JSON_PATH = f\"{DATA_PATH}/data.json\"\n",
    "\n",
    "MONTHS = [\n",
    "    \"Jan\",\n",
    "    \"Feb\",\n",
    "    \"Mar\",\n",
    "    \"Apr\",\n",
    "    \"May\",\n",
    "    \"June\",\n",
    "    \"July\",\n",
    "    \"Aug\",\n",
    "    \"Sept\",\n",
    "    \"Oct\",\n",
    "    \"Nov\",\n",
    "    \"Dec\",\n",
    "]\n",
    "\n",
    "SEXES = {\"female\": \"F\", \"male\": \"M\"}\n",
    "\n",
    "TYPES = {\n",
    "    \"DATA\": {\n",
    "        \"id\": \"VAERS_ID\",\n",
    "        \"date\": \"RECVDATE\",\n",
    "        \"state\": \"STATE\",\n",
    "        \"age\": \"AGE_YRS\",\n",
    "        \"sex\": \"SEX\",\n",
    "        \"died\": \"DIED\",\n",
    "        \"hospital\": \"HOSPITAL\",\n",
    "        \"disable\": \"DISABLE\",\n",
    "    },\n",
    "    \"SYMPTOMS\": {\n",
    "        \"id\": \"VAERS_ID\",\n",
    "    },\n",
    "    \"VAX\": {\"id\": \"VAERS_ID\", \"type\": \"VAX_TYPE\", \"manufacturer\": \"VAX_MANU\"},\n",
    "}\n",
    "\n",
    "YEARS = [str(i) for i in range(1990, int(datetime.date.today().year) + 1)]\n",
    "YEARS.reverse()"
   ]
  },
  {
   "cell_type": "code",
   "execution_count": 4,
   "metadata": {},
   "outputs": [],
   "source": [
    "shutil.rmtree(CSV_EXTRACTED_PATH)\n",
    "shutil.rmtree(CSV_MERGED_PATH)"
   ]
  },
  {
   "cell_type": "code",
   "execution_count": null,
   "metadata": {
    "vscode": {
     "languageId": "shellscript"
    }
   },
   "outputs": [],
   "source": [
    "!bash ../scripts/unzip.sh"
   ]
  },
  {
   "cell_type": "code",
   "execution_count": 6,
   "metadata": {},
   "outputs": [],
   "source": [
    "os.mkdir(CSV_MERGED_PATH)"
   ]
  },
  {
   "cell_type": "code",
   "execution_count": 7,
   "metadata": {},
   "outputs": [],
   "source": [
    "for type in TYPES.keys():\n",
    "    df = pd.DataFrame()\n",
    "\n",
    "    for file in os.listdir(CSV_EXTRACTED_PATH):\n",
    "        if file.endswith(f\"{type}.csv\"):\n",
    "            file_df = pd.read_csv(\n",
    "                f\"{CSV_EXTRACTED_PATH}/{file}\",\n",
    "                encoding=\"latin1\",\n",
    "                engine=\"python\",\n",
    "            )\n",
    "\n",
    "            file_df = file_df[TYPES[type].values()]\n",
    "\n",
    "            if df.empty:\n",
    "                df = file_df\n",
    "            else:\n",
    "                df = pd.concat([df, file_df])\n",
    "\n",
    "    df.to_csv(\n",
    "        f\"{CSV_MERGED_PATH}/{type}.csv\",\n",
    "        encoding=\"latin1\",\n",
    "        index=False,\n",
    "        sep=\",\",\n",
    "    )"
   ]
  },
  {
   "cell_type": "code",
   "execution_count": 8,
   "metadata": {},
   "outputs": [],
   "source": [
    "df_data = pd.read_csv(\n",
    "    f\"{CSV_MERGED_PATH}/DATA.csv\",\n",
    "    encoding=\"latin1\",\n",
    "    engine=\"python\",\n",
    "    sep=\",\",\n",
    ")\n",
    "df_symptoms = pd.read_csv(\n",
    "    f\"{CSV_MERGED_PATH}/SYMPTOMS.csv\",\n",
    "    encoding=\"latin1\",\n",
    "    engine=\"python\",\n",
    "    sep=\",\",\n",
    ")\n",
    "df_vax = pd.read_csv(\n",
    "    f\"{CSV_MERGED_PATH}/VAX.csv\",\n",
    "    encoding=\"latin1\",\n",
    "    engine=\"python\",\n",
    "    sep=\",\",\n",
    ")"
   ]
  },
  {
   "cell_type": "code",
   "execution_count": 9,
   "metadata": {},
   "outputs": [],
   "source": [
    "data_id_column = TYPES[\"DATA\"][\"id\"]\n",
    "\n",
    "\n",
    "def filter_data_vaccine(df_data, df_vax, vaccine):\n",
    "    with_vaccine = df_vax[df_vax[TYPES[\"VAX\"][\"type\"]].eq(vaccine)]\n",
    "    return df_data[\n",
    "        df_data[data_id_column].isin((with_vaccine[data_id_column].tolist()))\n",
    "    ]"
   ]
  },
  {
   "cell_type": "code",
   "execution_count": 10,
   "metadata": {},
   "outputs": [],
   "source": [
    "def filter_data_year(df, year):\n",
    "    return df[df[TYPES[\"DATA\"][\"date\"]].str.contains(year)]"
   ]
  },
  {
   "cell_type": "code",
   "execution_count": 11,
   "metadata": {},
   "outputs": [],
   "source": [
    "vax_id_column = TYPES[\"VAX\"][\"id\"]\n",
    "\n",
    "\n",
    "def filter_vax_data(df_data, df_vax):\n",
    "    return df_vax[df_vax[data_id_column].isin((df_data[vax_id_column].tolist()))]"
   ]
  },
  {
   "cell_type": "code",
   "execution_count": 12,
   "metadata": {},
   "outputs": [],
   "source": [
    "data_age_column = TYPES[\"DATA\"][\"age\"]\n",
    "\n",
    "\n",
    "def count_data_age(df, age_range):\n",
    "    if age_range is None:\n",
    "        return len(df[df[data_age_column].isna()])\n",
    "    return len(\n",
    "        df[df[data_age_column].between(age_range[0], age_range[1], inclusive=\"left\")]\n",
    "    )"
   ]
  },
  {
   "cell_type": "code",
   "execution_count": 13,
   "metadata": {},
   "outputs": [],
   "source": [
    "def count_data_died(df, died):\n",
    "    try:\n",
    "        return int(df[TYPES[\"DATA\"][\"died\"]].value_counts()[died])\n",
    "    except:\n",
    "        return 0"
   ]
  },
  {
   "cell_type": "code",
   "execution_count": 14,
   "metadata": {},
   "outputs": [],
   "source": [
    "def count_data_disable(df, disable):\n",
    "    try:\n",
    "        return int(df[TYPES[\"DATA\"][\"disable\"]].value_counts()[disable])\n",
    "    except:\n",
    "        return 0"
   ]
  },
  {
   "cell_type": "code",
   "execution_count": 15,
   "metadata": {},
   "outputs": [],
   "source": [
    "def count_data_hospital(df, hospital):\n",
    "    try:\n",
    "        return int(df[TYPES[\"DATA\"][\"hospital\"]].value_counts()[hospital])\n",
    "    except:\n",
    "        return 0"
   ]
  },
  {
   "cell_type": "code",
   "execution_count": 16,
   "metadata": {},
   "outputs": [],
   "source": [
    "def count_data_sex(df, sex):\n",
    "    try:\n",
    "        return int(df[TYPES[\"DATA\"][\"sex\"]].value_counts()[sex])\n",
    "    except:\n",
    "        return 0"
   ]
  },
  {
   "cell_type": "code",
   "execution_count": 17,
   "metadata": {},
   "outputs": [],
   "source": [
    "def count_data_total_monthly(df, month):\n",
    "    return len(\n",
    "        df[\n",
    "            df[TYPES[\"DATA\"][\"date\"]]\n",
    "            .str[:2]\n",
    "            .eq(str(month) if month > 9 else f\"0{str(month)}\")\n",
    "        ]\n",
    "    )"
   ]
  },
  {
   "cell_type": "code",
   "execution_count": 18,
   "metadata": {},
   "outputs": [],
   "source": [
    "def count_data_total_yearly(df, year):\n",
    "    return len(df[df[TYPES[\"DATA\"][\"date\"]].str.contains(year)])"
   ]
  },
  {
   "cell_type": "code",
   "execution_count": 19,
   "metadata": {},
   "outputs": [],
   "source": [
    "def count_total(df):\n",
    "    return len(df)"
   ]
  },
  {
   "cell_type": "code",
   "execution_count": 20,
   "metadata": {},
   "outputs": [],
   "source": [
    "def group_vax_manufacturer(df):\n",
    "    group = df.groupby([TYPES[\"VAX\"][\"manufacturer\"]]).size()\n",
    "    return zip(group.index, group)"
   ]
  },
  {
   "cell_type": "code",
   "execution_count": 21,
   "metadata": {},
   "outputs": [],
   "source": [
    "def group_vax_vaccine(df):\n",
    "    group = df.groupby([TYPES[\"VAX\"][\"type\"]]).size()\n",
    "    return zip(group.index, group)"
   ]
  },
  {
   "cell_type": "code",
   "execution_count": 22,
   "metadata": {},
   "outputs": [],
   "source": [
    "def analyze_data_ages(df):\n",
    "    results = {}\n",
    "\n",
    "    total = count_total(df)\n",
    "\n",
    "    unknown_total = count_data_age(df, None)\n",
    "\n",
    "    results[\"unknown\"] = unknown_total\n",
    "\n",
    "    data = []\n",
    "\n",
    "    for age in AGES.keys():\n",
    "        age_range = AGES[age]\n",
    "        age_total = count_data_age(df, age_range)\n",
    "\n",
    "        data.append(\n",
    "            {\n",
    "                \"label\": age,\n",
    "                \"percentage\": (age_total / (total - unknown_total)) * 100\n",
    "                if total > 0 and (total - unknown_total) > 0\n",
    "                else 0,\n",
    "                \"total\": age_total,\n",
    "            }\n",
    "        )\n",
    "\n",
    "    results[\"data\"] = data\n",
    "\n",
    "    return results"
   ]
  },
  {
   "cell_type": "code",
   "execution_count": 23,
   "metadata": {},
   "outputs": [],
   "source": [
    "def analyze_data_died(df):\n",
    "    results = {}\n",
    "\n",
    "    total = count_total(df)\n",
    "\n",
    "    died_total = count_data_died(df, \"Y\")\n",
    "    other_total = total - died_total\n",
    "\n",
    "    results[\"chart\"] = [{\"label\": \"Total\", \"died\": died_total, \"other\": other_total}]\n",
    "\n",
    "    results[\"data\"] = [\n",
    "        {\n",
    "            \"label\": \"Died\",\n",
    "            \"percentage\": (died_total / total) * 100 if total > 0 else 0,\n",
    "            \"total\": died_total,\n",
    "        },\n",
    "        {\n",
    "            \"label\": \"Other\",\n",
    "            \"percentage\": (other_total / total) * 100 if total > 0 else 0,\n",
    "            \"total\": other_total,\n",
    "        },\n",
    "    ]\n",
    "\n",
    "    return results"
   ]
  },
  {
   "cell_type": "code",
   "execution_count": 24,
   "metadata": {},
   "outputs": [],
   "source": [
    "def analyze_data_disabled(df):\n",
    "    results = {}\n",
    "\n",
    "    total = count_total(df)\n",
    "\n",
    "    disabled_total = count_data_disable(df, \"Y\")\n",
    "    other_total = total - disabled_total\n",
    "\n",
    "    results[\"chart\"] = [\n",
    "        {\"label\": \"Total\", \"disabled\": disabled_total, \"other\": other_total}\n",
    "    ]\n",
    "\n",
    "    results[\"Data\"] = [\n",
    "        {\n",
    "            \"label\": \"Disabled\",\n",
    "            \"percentage\": (disabled_total / total) * 100 if total > 0 else 0,\n",
    "            \"total\": disabled_total,\n",
    "        },\n",
    "        {\n",
    "            \"label\": \"Other\",\n",
    "            \"percentage\": (other_total / total) * 100 if total > 0 else 0,\n",
    "            \"total\": other_total,\n",
    "        },\n",
    "    ]\n",
    "\n",
    "    return results"
   ]
  },
  {
   "cell_type": "code",
   "execution_count": 25,
   "metadata": {},
   "outputs": [],
   "source": [
    "def analyze_data_hospital(df):\n",
    "    results = {}\n",
    "\n",
    "    total = count_total(df)\n",
    "\n",
    "    hospital_total = count_data_hospital(df, \"Y\")\n",
    "    other_total = total - hospital_total\n",
    "\n",
    "    results[\"chart\"] = [\n",
    "        {\"label\": \"Total\", \"hospital\": hospital_total, \"other\": other_total}\n",
    "    ]\n",
    "\n",
    "    results[\"data\"] = [\n",
    "        {\n",
    "            \"label\": \"Hospital\",\n",
    "            \"percentage\": (hospital_total / total) * 100 if total > 0 else 0,\n",
    "            \"total\": hospital_total,\n",
    "        },\n",
    "        {\n",
    "            \"label\": \"Other\",\n",
    "            \"percentage\": (other_total / total) * 100 if total > 0 else 0,\n",
    "            \"total\": other_total,\n",
    "        },\n",
    "    ]\n",
    "\n",
    "    return results"
   ]
  },
  {
   "cell_type": "code",
   "execution_count": 26,
   "metadata": {},
   "outputs": [],
   "source": [
    "def analyze_data_sexes(df):\n",
    "    results = {}\n",
    "\n",
    "    total = count_total(df)\n",
    "\n",
    "    unknown_total = count_data_sex(df, \"U\")\n",
    "\n",
    "    results[\"unknown\"] = unknown_total\n",
    "\n",
    "    chart = [{\"label\": \"Total\"}]\n",
    "\n",
    "    data = []\n",
    "\n",
    "    for sex in SEXES.keys():\n",
    "        sex_total = count_data_sex(df, SEXES[sex])\n",
    "\n",
    "        chart_update = {}\n",
    "        chart_update[sex] = sex_total\n",
    "        chart[0] = {**chart[0], **chart_update}\n",
    "        data.append(\n",
    "            {\n",
    "                \"label\": sex,\n",
    "                \"percentage\": (sex_total / (total - unknown_total)) * 100\n",
    "                if total > 0 and (total - unknown_total) > 0\n",
    "                else 0,\n",
    "                \"total\": sex_total,\n",
    "            }\n",
    "        )\n",
    "\n",
    "    results[\"chart\"] = chart\n",
    "\n",
    "    results[\"data\"] = data\n",
    "\n",
    "    return results"
   ]
  },
  {
   "cell_type": "code",
   "execution_count": 27,
   "metadata": {},
   "outputs": [],
   "source": [
    "def analyze_data_totals(df, type):\n",
    "    results = {}\n",
    "\n",
    "    total = count_total(df)\n",
    "\n",
    "    data = []\n",
    "\n",
    "    if type == \"years\":\n",
    "        axis = YEARS\n",
    "        count_data = count_data_total_yearly\n",
    "    else:\n",
    "        axis = MONTHS\n",
    "        count_data = count_data_total_monthly\n",
    "\n",
    "    for i, a in enumerate(axis):\n",
    "        a_total = count_data(df, a if type == \"years\" else i + 1)\n",
    "\n",
    "        data.append(\n",
    "            {\n",
    "                \"label\": a,\n",
    "                \"percentage\": (a_total / total) * 100 if total > 0 else 0,\n",
    "                \"total\": a_total,\n",
    "            }\n",
    "        )\n",
    "\n",
    "    if type == \"years\":\n",
    "        data.reverse()\n",
    "\n",
    "    results[\"data\"] = data\n",
    "\n",
    "    return results"
   ]
  },
  {
   "cell_type": "code",
   "execution_count": 28,
   "metadata": {},
   "outputs": [],
   "source": [
    "def analyze_total(df):\n",
    "    return count_total(df)"
   ]
  },
  {
   "cell_type": "code",
   "execution_count": 29,
   "metadata": {},
   "outputs": [],
   "source": [
    "def analyze_vax_manufacturers(df_data, df_vax):\n",
    "    results = {}\n",
    "\n",
    "    total = count_total(df_data)\n",
    "\n",
    "    group = group_vax_manufacturer(df_vax)\n",
    "\n",
    "    data = []\n",
    "\n",
    "    for group_name, group_total in group:\n",
    "        data.append(\n",
    "            {\n",
    "                \"name\": group_name,\n",
    "                \"children\": [\n",
    "                    {\n",
    "                        \"label\": group_name,\n",
    "                        \"name\": \"Reports\",\n",
    "                        \"percentage\": (group_total / total) * 100 if total > 0 else 0,\n",
    "                        \"total\": group_total,\n",
    "                    }\n",
    "                ],\n",
    "            }\n",
    "        )\n",
    "\n",
    "    results[\"data\"] = data\n",
    "\n",
    "    return results"
   ]
  },
  {
   "cell_type": "code",
   "execution_count": 30,
   "metadata": {},
   "outputs": [],
   "source": [
    "def analyze_vax_vaccines(df_data, df_vax):\n",
    "    results = {}\n",
    "\n",
    "    total = count_total(df_data)\n",
    "\n",
    "    group = group_vax_vaccine(df_vax)\n",
    "\n",
    "    data = []\n",
    "\n",
    "    for group_name, group_total in group:\n",
    "        data.append(\n",
    "            {\n",
    "                \"name\": group_name,\n",
    "                \"children\": [\n",
    "                    {\n",
    "                        \"label\": group_name,\n",
    "                        \"name\": \"Reports\",\n",
    "                        \"percentage\": (group_total / total) * 100 if total > 0 else 0,\n",
    "                        \"total\": group_total,\n",
    "                    }\n",
    "                ],\n",
    "            }\n",
    "        )\n",
    "\n",
    "    results[\"data\"] = data\n",
    "\n",
    "    return results"
   ]
  },
  {
   "cell_type": "code",
   "execution_count": 31,
   "metadata": {},
   "outputs": [],
   "source": [
    "vax_type_column = TYPES[\"VAX\"][\"type\"]\n",
    "\n",
    "\n",
    "def list_vax_vaccines(df):\n",
    "    return sorted(df[vax_type_column].drop_duplicates().to_list())"
   ]
  },
  {
   "cell_type": "code",
   "execution_count": 40,
   "metadata": {},
   "outputs": [],
   "source": [
    "def analysis(vaccine, year):\n",
    "    results = {}\n",
    "\n",
    "    if year:\n",
    "        df_data_filtered = filter_data_year(df_data, year)\n",
    "    else:\n",
    "        df_data_filtered = df_data\n",
    "\n",
    "    if vaccine:\n",
    "        df_data_filtered = filter_data_vaccine(df_data_filtered, df_vax, vaccine)\n",
    "\n",
    "    df_vax_filtered = filter_vax_data(df_data_filtered, df_vax)\n",
    "\n",
    "    results[\"total\"] = analyze_total(df_data_filtered)\n",
    "\n",
    "    data = {}\n",
    "\n",
    "    data[\"ages\"] = analyze_data_ages(df_data_filtered)\n",
    "\n",
    "    data[\"died\"] = analyze_data_died(df_data_filtered)\n",
    "\n",
    "    data[\"disabled\"] = analyze_data_disabled(df_data_filtered)\n",
    "\n",
    "    data[\"hospital\"] = analyze_data_hospital(df_data_filtered)\n",
    "\n",
    "    data[\"sexes\"] = analyze_data_sexes(df_data_filtered)\n",
    "\n",
    "    data[\"totals\"] = analyze_data_totals(\n",
    "        df_data_filtered, \"months\" if year else \"years\"\n",
    "    )\n",
    "\n",
    "    results[\"data\"] = data\n",
    "\n",
    "    vax = {}\n",
    "\n",
    "    vax[\"manufacturers\"] = analyze_vax_manufacturers(df_data_filtered, df_vax_filtered)\n",
    "\n",
    "    vax[\"vaccines\"] = analyze_vax_vaccines(df_data_filtered, df_vax_filtered)\n",
    "\n",
    "    results[\"vax\"] = vax\n",
    "\n",
    "    vaccines = list_vax_vaccines(df_vax_filtered)\n",
    "\n",
    "    results[\"vaccines\"] = vaccines\n",
    "\n",
    "    return results"
   ]
  },
  {
   "cell_type": "code",
   "execution_count": 41,
   "metadata": {},
   "outputs": [],
   "source": [
    "data = json.load(open(DATA_JSON_PATH))"
   ]
  },
  {
   "cell_type": "code",
   "execution_count": null,
   "metadata": {},
   "outputs": [],
   "source": [
    "results = {}\n",
    "\n",
    "results[\"years\"] = YEARS\n",
    "\n",
    "results[\"all\"] = analysis(None, None)\n",
    "\n",
    "for year in YEARS:\n",
    "    if year not in data.keys() or year in [YEARS[0], YEARS[1]]:\n",
    "        results[year] = analysis(None, year)\n",
    "        print(year)\n",
    "\n",
    "        for vaccine in list_vax_vaccines(df_vax):\n",
    "            results[f\"{vaccine}{year}\"] = analysis(vaccine, year)\n",
    "            print(f\"{vaccine}{year}\")"
   ]
  },
  {
   "cell_type": "code",
   "execution_count": 43,
   "metadata": {},
   "outputs": [],
   "source": [
    "with open(DATA_JSON_PATH, \"w\") as w:\n",
    "    w.write(json.dumps(results))"
   ]
  },
  {
   "cell_type": "code",
   "execution_count": 44,
   "metadata": {},
   "outputs": [],
   "source": [
    "with open(\"../data/all.json\", \"w\") as w:\n",
    "    w.write(json.dumps({\"all\": analysis(None, None)}))"
   ]
  }
 ],
 "metadata": {
  "kernelspec": {
   "display_name": "Python 3",
   "language": "python",
   "name": "python3"
  },
  "language_info": {
   "codemirror_mode": {
    "name": "ipython",
    "version": 3
   },
   "file_extension": ".py",
   "mimetype": "text/x-python",
   "name": "python",
   "nbconvert_exporter": "python",
   "pygments_lexer": "ipython3",
   "version": "3.11.3"
  },
  "orig_nbformat": 4
 },
 "nbformat": 4,
 "nbformat_minor": 2
}
